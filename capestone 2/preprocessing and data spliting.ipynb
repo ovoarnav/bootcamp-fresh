{
 "cells": [
  {
   "cell_type": "code",
   "execution_count": null,
   "id": "9114b180-e584-4bbb-8e08-c0d66764f140",
   "metadata": {},
   "outputs": [],
   "source": []
  }
 ],
 "metadata": {
  "kernelspec": {
   "display_name": "",
   "name": ""
  },
  "language_info": {
   "name": ""
  }
 },
 "nbformat": 4,
 "nbformat_minor": 5
}
