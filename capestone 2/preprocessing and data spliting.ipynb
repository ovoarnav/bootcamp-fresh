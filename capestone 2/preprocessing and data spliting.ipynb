{
 "cells": [
  {
   "cell_type": "code",
   "execution_count": 1,
   "id": "9114b180-e584-4bbb-8e08-c0d66764f140",
   "metadata": {},
   "outputs": [],
   "source": [
    "import pandas as pd\n",
    "import numpy as np\n",
    "from sklearn.model_selection import train_test_split\n",
    "from sklearn.preprocessing import StandardScaler, OneHotEncoder"
   ]
  },
  {
   "cell_type": "code",
   "execution_count": 2,
   "id": "b827ccd1-ecf6-4dec-a8fb-b9f6a9f8e73d",
   "metadata": {},
   "outputs": [],
   "source": [
    "# Load the dataset\n",
    "file_path = 'adjusted_features_speeddating.csv'\n",
    "df = pd.read_csv(file_path)\n"
   ]
  },
  {
   "cell_type": "code",
   "execution_count": 3,
   "id": "d706afa3-1f9c-4032-aa5d-b12e2ef28937",
   "metadata": {
    "jupyter": {
     "source_hidden": true
    }
   },
   "outputs": [
    {
     "name": "stdout",
     "output_type": "stream",
     "text": [
      "\n",
      "Creating Dummy Features...\n",
      "Dummy features created.\n"
     ]
    }
   ],
   "source": [
    "# Step 1: Dummy Feature Creation\n",
    "# ------------------------------\n",
    "print(\"\\nCreating Dummy Features...\")\n",
    "# Identify categorical columns to encode\n",
    "categorical_cols = ['age_group']\n",
    "df = pd.get_dummies(df, columns=categorical_cols, drop_first=True)\n",
    "print(\"Dummy features created.\")\n"
   ]
  },
  {
   "cell_type": "code",
   "execution_count": 4,
   "id": "16c2aac6-88d1-4412-a0d8-72cd1d505aba",
   "metadata": {},
   "outputs": [
    {
     "name": "stdout",
     "output_type": "stream",
     "text": [
      "\n",
      "Applying Standard Scaling...\n",
      "Scaling applied to numeric features.\n"
     ]
    }
   ],
   "source": [
    "# Step 2: Scale Standardization\n",
    "# -----------------------------\n",
    "print(\"\\nApplying Standard Scaling...\")\n",
    "scaler = StandardScaler()\n",
    "\n",
    "# Identify numeric columns to scale\n",
    "numeric_cols = ['funny_partner', 'attractive_partner', 'guess_prob_liked', 'expected_num_matches', 'like', 'match']\n",
    "df[numeric_cols] = scaler.fit_transform(df[numeric_cols])\n",
    "print(\"Scaling applied to numeric features.\")"
   ]
  },
  {
   "cell_type": "code",
   "execution_count": 5,
   "id": "510c3301-4642-48f1-9d8e-f47c22f4906e",
   "metadata": {},
   "outputs": [
    {
     "name": "stdout",
     "output_type": "stream",
     "text": [
      "\n",
      "Splitting Data into Training and Testing Sets...\n",
      "Data preprocessing and splitting complete. Datasets saved as CSV files.\n"
     ]
    }
   ],
   "source": [
    "# Step 3: Data Splitting\n",
    "# ----------------------\n",
    "print(\"\\nSplitting Data into Training and Testing Sets...\")\n",
    "# Define target variables\n",
    "X = df.drop(['like', 'match'], axis=1)\n",
    "y_like = df['like']\n",
    "y_match = df['match']\n",
    "\n",
    "# Split for 'like' prediction\n",
    "X_train_like, X_test_like, y_train_like, y_test_like = train_test_split(X, y_like, test_size=0.2, random_state=42)\n",
    "\n",
    "# Split for 'match' prediction\n",
    "X_train_match, X_test_match, y_train_match, y_test_match = train_test_split(X, y_match, test_size=0.2, random_state=42)\n",
    "\n",
    "# Save the training and testing sets\n",
    "X_train_like.to_csv('X_train_like.csv', index=False)\n",
    "X_test_like.to_csv('X_test_like.csv', index=False)\n",
    "y_train_like.to_csv('y_train_like.csv', index=False)\n",
    "y_test_like.to_csv('y_test_like.csv', index=False)\n",
    "\n",
    "X_train_match.to_csv('X_train_match.csv', index=False)\n",
    "X_test_match.to_csv('X_test_match.csv', index=False)\n",
    "y_train_match.to_csv('y_train_match.csv', index=False)\n",
    "y_test_match.to_csv('y_test_match.csv', index=False)\n",
    "\n",
    "print(\"Data preprocessing and splitting complete. Datasets saved as CSV files.\")"
   ]
  },
  {
   "cell_type": "code",
   "execution_count": null,
   "id": "894b5044-fc2f-467c-8fd0-be43999b7e2e",
   "metadata": {},
   "outputs": [],
   "source": []
  }
 ],
 "metadata": {
  "kernelspec": {
   "display_name": "Python 3 (ipykernel)",
   "language": "python",
   "name": "python3"
  },
  "language_info": {
   "codemirror_mode": {
    "name": "ipython",
    "version": 3
   },
   "file_extension": ".py",
   "mimetype": "text/x-python",
   "name": "python",
   "nbconvert_exporter": "python",
   "pygments_lexer": "ipython3",
   "version": "3.12.7"
  }
 },
 "nbformat": 4,
 "nbformat_minor": 5
}
