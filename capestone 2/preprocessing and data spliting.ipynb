{
 "cells": [
  {
   "cell_type": "code",
   "execution_count": 40,
   "id": "9114b180-e584-4bbb-8e08-c0d66764f140",
   "metadata": {},
   "outputs": [],
   "source": [
    "# Modeling Pipeline for Adjusted Speed Dating Dataset\n",
    "\n",
    "import pandas as pd\n",
    "import numpy as np\n",
    "from sklearn.model_selection import train_test_split\n",
    "from sklearn.preprocessing import StandardScaler\n",
    "from sklearn.compose import ColumnTransformer\n",
    "from sklearn.pipeline import Pipeline\n",
    "from sklearn.impute import SimpleImputer\n",
    "from sklearn.linear_model import LinearRegression, LogisticRegression\n",
    "from sklearn.ensemble import RandomForestRegressor, RandomForestClassifier\n",
    "from sklearn.svm import SVR, SVC\n",
    "from sklearn.metrics import mean_squared_error, r2_score, accuracy_score, precision_score, recall_score, f1_score"
   ]
  },
  {
   "cell_type": "code",
   "execution_count": 41,
   "id": "b827ccd1-ecf6-4dec-a8fb-b9f6a9f8e73d",
   "metadata": {},
   "outputs": [],
   "source": [
    "# Load dataset\n",
    "file_path = 'adjusted_features_speeddating.csv'\n",
    "df = pd.read_csv(file_path)\n"
   ]
  },
  {
   "cell_type": "code",
   "execution_count": 42,
   "id": "9a28da41-648f-42fa-ae03-8426039bdefd",
   "metadata": {},
   "outputs": [],
   "source": [
    "# Separate features and targets\n",
    "X = df.drop(['like', 'match'], axis=1)\n",
    "y_like = df['like']\n",
    "y_match = df['match']\n",
    "\n",
    "# Identify column types\n",
    "numeric_cols = X.select_dtypes(include=[np.number]).columns.tolist()\n",
    "categorical_cols = X.select_dtypes(include=['object']).columns.tolist()\n",
    "\n",
    "# Preprocessing pipelines\n",
    "numeric_pipeline = Pipeline([\n",
    "    ('imputer', SimpleImputer(strategy='median')),\n",
    "    ('scaler', StandardScaler())\n",
    "])\n",
    "\n",
    "categorical_pipeline = Pipeline([\n",
    "    ('imputer', SimpleImputer(strategy='most_frequent')),\n",
    "    ('onehot',  pd.get_dummies)\n",
    "])\n",
    "\n",
    "# Apply preprocessing: we will one‑hot via pandas before pipeline to keep simple\n",
    "X = pd.get_dummies(X, columns=categorical_cols, drop_first=True)\n",
    "\n",
    "# Impute & scale numeric columns\n",
    "imputer = SimpleImputer(strategy='median')\n",
    "X[numeric_cols] = imputer.fit_transform(X[numeric_cols])\n",
    "scaler = StandardScaler()\n",
    "X[numeric_cols] = scaler.fit_transform(X[numeric_cols])"
   ]
  },
  {
   "cell_type": "code",
   "execution_count": 43,
   "id": "16c2aac6-88d1-4412-a0d8-72cd1d505aba",
   "metadata": {},
   "outputs": [],
   "source": [
    "# Split data\n",
    "X_train_like, X_test_like, y_train_like, y_test_like = train_test_split(X, y_like, test_size=0.2, random_state=42)\n",
    "X_train_match, X_test_match, y_train_match, y_test_match = train_test_split(X, y_match, test_size=0.2, random_state=42)"
   ]
  },
  {
   "cell_type": "code",
   "execution_count": null,
   "id": "510c3301-4642-48f1-9d8e-f47c22f4906e",
   "metadata": {},
   "outputs": [],
   "source": []
  },
  {
   "cell_type": "code",
   "execution_count": 48,
   "id": "894b5044-fc2f-467c-8fd0-be43999b7e2e",
   "metadata": {},
   "outputs": [
    {
     "name": "stdout",
     "output_type": "stream",
     "text": [
      "LogisticRegression: Acc=1.000, Prec=1.000, Rec=1.000, F1=1.000, AUC=1.000, Brier=0.000\n",
      "RandomForestClassifier: Acc=0.944, Prec=1.000, Rec=0.659, F1=0.795, AUC=0.999, Brier=0.042\n",
      "SVC (prob): Acc=0.999, Prec=1.000, Rec=0.996, F1=0.998, AUC=1.000, Brier=0.001\n",
      "Sample predicted odds (first 10 rows):\n",
      "   Actual  Match_Probability\n",
      "0       0       5.636707e-04\n",
      "1       0       1.000000e-07\n",
      "2       0       1.055985e-04\n",
      "3       0       4.739949e-04\n",
      "4       0       1.482866e-04\n",
      "5       0       1.000000e-07\n",
      "6       1       9.999987e-01\n",
      "7       0       2.990214e-03\n",
      "8       0       3.810091e-03\n",
      "9       1       1.000000e+00\n",
      "Modeling complete.\n"
     ]
    }
   ],
   "source": [
    "# --- Classification: Predicting 'match' (Probability of Matching) ---\n",
    "\n",
    "\n",
    "from sklearn.metrics import roc_auc_score, brier_score_loss, RocCurveDisplay\n",
    "\n",
    "# Re‑split with stratification to preserve class ratio\n",
    "X_train_match, X_test_match, y_train_match, y_test_match = train_test_split(\n",
    "    X, y_match, test_size=0.2, random_state=42, stratify=y_match)\n",
    "\n",
    "classifiers = {\n",
    "    'LogisticRegression': LogisticRegression(max_iter=1000, class_weight='balanced'),\n",
    "    'RandomForestClassifier': RandomForestClassifier(random_state=42, class_weight='balanced'),\n",
    "    'SVC (prob)': SVC(probability=True, class_weight='balanced')\n",
    "}\n",
    "\n",
    "for name, model in classifiers.items():\n",
    "    model.fit(X_train_match, y_train_match)\n",
    "    probas = model.predict_proba(X_test_match)[:, 1]\n",
    "    preds = (probas >= 0.5).astype(int)  # default 0.5 threshold\n",
    "\n",
    "    acc = accuracy_score(y_test_match, preds)\n",
    "    prec = precision_score(y_test_match, preds)\n",
    "    rec = recall_score(y_test_match, preds)\n",
    "    f1 = f1_score(y_test_match, preds)\n",
    "    roc_auc = roc_auc_score(y_test_match, probas)\n",
    "    brier = brier_score_loss(y_test_match, probas)\n",
    "\n",
    "    print(f\"{name}: Acc={acc:.3f}, Prec={prec:.3f}, Rec={rec:.3f}, F1={f1:.3f}, AUC={roc_auc:.3f}, Brier={brier:.3f}\")\n",
    "\n",
    "print(\"Sample predicted odds (first 10 rows):\")\n",
    "print(pd.DataFrame({'Actual': y_test_match.iloc[:10].values,\n",
    "                    'Match_Probability': probas[:10]}))\n",
    "\n",
    "print(\"Modeling complete.\")\n"
   ]
  },
  {
   "cell_type": "code",
   "execution_count": null,
   "id": "6bf5aa22-c449-40a5-99a9-d1383d5f2070",
   "metadata": {},
   "outputs": [],
   "source": []
  },
  {
   "cell_type": "code",
   "execution_count": null,
   "id": "3b441aa7-55d7-4389-883b-d5f2eca295d9",
   "metadata": {},
   "outputs": [],
   "source": []
  }
 ],
 "metadata": {
  "kernelspec": {
   "display_name": "Python 3 (ipykernel)",
   "language": "python",
   "name": "python3"
  },
  "language_info": {
   "codemirror_mode": {
    "name": "ipython",
    "version": 3
   },
   "file_extension": ".py",
   "mimetype": "text/x-python",
   "name": "python",
   "nbconvert_exporter": "python",
   "pygments_lexer": "ipython3",
   "version": "3.12.7"
  }
 },
 "nbformat": 4,
 "nbformat_minor": 5
}
